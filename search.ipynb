{
 "cells": [
  {
   "cell_type": "code",
   "execution_count": 1,
   "metadata": {},
   "outputs": [],
   "source": [
    "import os\n",
    "os.environ[\"CUDA_VISIBLE_DEVICES\"] = \"1\""
   ]
  },
  {
   "cell_type": "code",
   "execution_count": 8,
   "metadata": {},
   "outputs": [],
   "source": [
    "from ultralytics import YOLO\n",
    "import yaml\n",
    "import random\n",
    "import copy\n",
    "from utils import *\n",
    "import numpy as np\n",
    "import time"
   ]
  },
  {
   "cell_type": "code",
   "execution_count": 6,
   "metadata": {},
   "outputs": [],
   "source": [
    "save_cfg_name = str(time.time()).replace('.','')\n",
    "save_cfg_name1 = str(time.time()).replace('.','')"
   ]
  },
  {
   "cell_type": "code",
   "execution_count": 7,
   "metadata": {},
   "outputs": [],
   "source": [
    "load_cfg = 'recipe/yolov8n.yaml'\n",
    "load_ss = 'recipe/ss.yaml'\n",
    "save_cfg = f'new/{save_cfg_name}.yaml'\n",
    "save_cfg1 = f'new/{save_cfg_name1}.yaml'"
   ]
  },
  {
   "cell_type": "code",
   "execution_count": 8,
   "metadata": {},
   "outputs": [],
   "source": [
    "cfg = load_yaml(load_cfg)\n",
    "ss = load_yaml(load_ss)"
   ]
  },
  {
   "cell_type": "code",
   "execution_count": 9,
   "metadata": {},
   "outputs": [
    {
     "name": "stderr",
     "output_type": "stream",
     "text": [
      "  0%|          | 0/2 [00:00<?, ?it/s]WARNING ⚠️ no model scale passed. Assuming scale='l'.\n",
      " 50%|█████     | 1/2 [00:01<00:01,  1.01s/it]WARNING ⚠️ no model scale passed. Assuming scale='l'.\n",
      "100%|██████████| 2/2 [00:01<00:00,  1.59it/s]\n"
     ]
    }
   ],
   "source": [
    "from tqdm import tqdm\n",
    "l = size_ss(ss)\n",
    "c=0\n",
    "new_cfgs = [-1,-1]\n",
    "for i in tqdm(range(2)):\n",
    "    selected_cfg = select_cfg(ss)\n",
    "    selected_cfg_ = copy.deepcopy(selected_cfg)\n",
    "    new_cfgs[i] = create_cfg(cfg,selected_cfg)\n",
    "    dump_yaml(new_cfgs[i], save_cfg)\n",
    "    try:\n",
    "        model = YOLO(save_cfg)\n",
    "        del model\n",
    "    except RuntimeError as rte:\n",
    "        pass\n",
    "    except ValueError as ve:\n",
    "        pass"
   ]
  },
  {
   "cell_type": "code",
   "execution_count": 17,
   "metadata": {},
   "outputs": [
    {
     "name": "stderr",
     "output_type": "stream",
     "text": [
      "YOLOv8n summary: 225 layers, 3157200 parameters, 3157184 gradients\n",
      "\n"
     ]
    }
   ],
   "source": [
    "model = YOLO(\"yolov8n.pt\")\n",
    "model_ = YOLO(\"yolov8n.yaml\")"
   ]
  },
  {
   "cell_type": "code",
   "execution_count": null,
   "metadata": {},
   "outputs": [],
   "source": [
    "model.train(data=\"coco128.yaml\", epochs=5)  # train the model"
   ]
  },
  {
   "cell_type": "code",
   "execution_count": null,
   "metadata": {},
   "outputs": [],
   "source": [
    "metrics = model.val(\"coco128.yaml\",save_dir=False)\n",
    "# metrics_ = model_.val(\"coco128.yaml\",save=False)"
   ]
  },
  {
   "cell_type": "code",
   "execution_count": null,
   "metadata": {},
   "outputs": [],
   "source": [
    "for k,v in metrics.__dict__.items():\n",
    "    if k not in [\"names\", \"box\"]:\n",
    "        print(f\"'{k}': \",v)"
   ]
  },
  {
   "cell_type": "code",
   "execution_count": null,
   "metadata": {},
   "outputs": [],
   "source": [
    "cm = metrics.confusion_matrix.matrix\n",
    "cm_ = metrics_.confusion_matrix.matrix"
   ]
  },
  {
   "cell_type": "code",
   "execution_count": null,
   "metadata": {},
   "outputs": [],
   "source": [
    "acc = np.trace(cm)/np.sum(cm)\n",
    "acc_ = np.trace(cm_)/np.sum(cm_)"
   ]
  },
  {
   "attachments": {},
   "cell_type": "markdown",
   "metadata": {},
   "source": [
    "### a&b"
   ]
  },
  {
   "cell_type": "code",
   "execution_count": 2,
   "metadata": {},
   "outputs": [],
   "source": [
    "a = {'nc': 80,\n",
    " 'scales': {\n",
    "    'n': [0.33, 0.25, 1024],\n",
    "    's': [0.33, 0.5, 1024],\n",
    "    'm': [0.67, 0.75, 768],\n",
    "    'l': [1.0, 1.0, 512],\n",
    "    'x': [1.0, 1.25, 512]},\n",
    " 'backbone': [\n",
    "    [-1, 1, 'Conv', [1, 1, 1]],\n",
    "    [-1, 1, 'Conv', [1, 1, 1]],\n",
    "    [-1, 3, 'C2f', [1, 1]],\n",
    "    [-1, 1, 'Conv', [1, 1, 1]],\n",
    "    [-1, 6, 'C2f', [1, 1]],\n",
    "    [-1, 1, 'Conv', [1, 1, 1]],\n",
    "    [-1, 6, 'C2f', [1, 1]],\n",
    "    [-1, 1, 'Conv', [1, 1, 1]],\n",
    "    [-1, 3, 'C2f', [1, 1]],\n",
    "    [-1, 1, 'SPPF', [1, 1]]],\n",
    " 'head': [\n",
    "    [-1, 1, 'nn.Upsample', [2, 2, 2]],\n",
    "    [[-1, 6], 1, 'Concat', [2]],\n",
    "    [-1, 3, 'C2f', [2]],\n",
    "    [-1, 1, 'nn.Upsample', [2, 2, 2]],\n",
    "    [[-1, 4], 1, 'Concat', [2]],\n",
    "    [-1, 3, 'C2f', [2]],\n",
    "    [-1, 1, 'Conv', [2, 2, 2]],\n",
    "    [[-1, 12], 1, 'Concat', [2]],\n",
    "    [-1, 3, 'C2f', [2]],\n",
    "    [-1, 1, 'Conv', [2, 2, 2]],\n",
    "    [[-1, 9], 1, 'Concat', [2]],\n",
    "    [-1, 3, 'C2f', [2]],\n",
    "    [[15, 18, 21], 1, 'Detect', [2]]]}"
   ]
  },
  {
   "cell_type": "code",
   "execution_count": 3,
   "metadata": {},
   "outputs": [],
   "source": [
    "b = {'nc': 80,\n",
    " 'scales': {\n",
    "    'n': [0.33, 0.25, 1024],\n",
    "    's': [0.33, 0.5, 1024],\n",
    "    'm': [0.67, 0.75, 768],\n",
    "    'l': [1.0, 1.0, 512],\n",
    "    'x': [1.0, 1.25, 512]},\n",
    " 'backbone': [\n",
    "    [-1, 1, 'Conv', [3,3,3]],\n",
    "    [-1, 1, 'Conv', [3,3,3]],\n",
    "    [-1, 3, 'C2f', [3,3]],\n",
    "    [-1, 1, 'Conv', [3,3,3]],\n",
    "    [-1, 6, 'C2f', [3,3]],\n",
    "    [-1, 1, 'Conv', [3,3,3]],\n",
    "    [-1, 6, 'C2f', [3,3]],\n",
    "    [-1, 1, 'Conv', [3,3,3]],\n",
    "    [-1, 3, 'C2f', [3,3]],\n",
    "    [-1, 1, 'SPPF', [3,3]]],\n",
    " 'head': [\n",
    "    [-1, 1, 'nn.Upsample', [4,4,4]],\n",
    "    [[-1, 6], 1, 'Concat', [4]],\n",
    "    [-1, 3, 'C2f', [4]],\n",
    "    [-1, 1, 'nn.Upsample', [4,4,4]],\n",
    "    [[-1, 4], 1, 'Concat', [4]],\n",
    "    [-1, 3, 'C2f', [4]],\n",
    "    [-1, 1, 'Conv', [4,4,4]],\n",
    "    [[-1, 12], 1, 'Concat', [4]],\n",
    "    [-1, 3, 'C2f', [4]],\n",
    "    [-1, 1, 'Conv', [4,4,4]],\n",
    "    [[-1, 9], 1, 'Concat', [4]],\n",
    "    [-1, 3, 'C2f', [4]],\n",
    "    [[15, 18, 21], 1, 'Detect', [4]]]}"
   ]
  },
  {
   "attachments": {},
   "cell_type": "markdown",
   "metadata": {},
   "source": [
    "### ."
   ]
  },
  {
   "cell_type": "code",
   "execution_count": 16,
   "metadata": {},
   "outputs": [
    {
     "name": "stdout",
     "output_type": "stream",
     "text": [
      "17\n"
     ]
    },
    {
     "data": {
      "text/plain": [
       "{'nc': 80,\n",
       " 'scales': {'n': [0.33, 0.25, 1024],\n",
       "  's': [0.33, 0.5, 1024],\n",
       "  'm': [0.67, 0.75, 768],\n",
       "  'l': [1.0, 1.0, 512],\n",
       "  'x': [1.0, 1.25, 512]},\n",
       " 'backbone': [[-1, 1, 'Conv', [1, 1, 1]],\n",
       "  [-1, 1, 'Conv', [1, 1, 1]],\n",
       "  [-1, 3, 'C2f', [1, 1]],\n",
       "  [-1, 1, 'Conv', [1, 1, 1]],\n",
       "  [-1, 6, 'C2f', [1, 1]],\n",
       "  [-1, 1, 'Conv', [1, 1, 1]],\n",
       "  [-1, 6, 'C2f', [1, 1]],\n",
       "  [-1, 1, 'Conv', [1, 1, 1]],\n",
       "  [-1, 3, 'C2f', [1, 1]],\n",
       "  [-1, 1, 'SPPF', [1, 1]]],\n",
       " 'head': [[-1, 1, 'nn.Upsample', [2, 2, 2]],\n",
       "  [[-1, 6], 1, 'Concat', [2]],\n",
       "  [-1, 3, 'C2f', [2]],\n",
       "  [-1, 1, 'nn.Upsample', [2, 2, 2]],\n",
       "  [[-1, 4], 1, 'Concat', [2]],\n",
       "  [-1, 3, 'C2f', [2]],\n",
       "  [-1, 1, 'Conv', [2, 2, 2]],\n",
       "  [[-1, 12], 1, 'Concat', [4]],\n",
       "  [-1, 3, 'C2f', [4]],\n",
       "  [-1, 1, 'Conv', [4, 4, 4]],\n",
       "  [[-1, 9], 1, 'Concat', [4]],\n",
       "  [-1, 3, 'C2f', [4]],\n",
       "  [[15, 18, 21], 1, 'Detect', [4]]]}"
      ]
     },
     "execution_count": 16,
     "metadata": {},
     "output_type": "execute_result"
    }
   ],
   "source": [
    "cross_over(a,b)"
   ]
  }
 ],
 "metadata": {
  "kernelspec": {
   "display_name": "pytorch",
   "language": "python",
   "name": "python3"
  },
  "language_info": {
   "codemirror_mode": {
    "name": "ipython",
    "version": 3
   },
   "file_extension": ".py",
   "mimetype": "text/x-python",
   "name": "python",
   "nbconvert_exporter": "python",
   "pygments_lexer": "ipython3",
   "version": "3.11.3"
  },
  "orig_nbformat": 4
 },
 "nbformat": 4,
 "nbformat_minor": 2
}
