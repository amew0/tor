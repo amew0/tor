{
 "cells": [
  {
   "cell_type": "code",
   "execution_count": null,
   "metadata": {},
   "outputs": [],
   "source": [
    "import os\n",
    "os.environ['CUDA_VISIBLE_DEVICES'] = '1'\n",
    "from ultralytics import YOLO\n",
    "import yaml\n",
    "import random\n",
    "import copy\n",
    "from utils import *\n",
    "import numpy as np\n",
    "import time\n",
    "import torch"
   ]
  },
  {
   "cell_type": "code",
   "execution_count": null,
   "metadata": {},
   "outputs": [],
   "source": [
    "from tqdm import tqdm\n",
    "l = size_ss(ss)\n",
    "c=0\n",
    "new_cfgs = [-1,-1]\n",
    "for i in tqdm(range(2)):\n",
    "    selected_cfg = select_cfg(ss)\n",
    "    selected_cfg_ = copy.deepcopy(selected_cfg)\n",
    "    new_cfgs[i] = create_cfg(cfg,selected_cfg)\n",
    "    dump_yaml(new_cfgs[i], save_cfg)\n",
    "    try:\n",
    "        model = YOLO(save_cfg)\n",
    "        del model\n",
    "    except RuntimeError as rte:\n",
    "        pass\n",
    "    except ValueError as ve:\n",
    "        pass"
   ]
  },
  {
   "cell_type": "code",
   "execution_count": null,
   "metadata": {},
   "outputs": [],
   "source": [
    "device = torch.device(\"cuda\" if torch.cuda.is_available() else \"cpu\")\n",
    "# model = YOLO(\"yolov8n.pt\")\n",
    "model = YOLO(\"yolov8n.yaml\")\n",
    "model_.to(device)\n",
    "model.train(data='coco128.yaml', epochs=20, workers=1,imgsz=80,verbose=False,patience=1)\n",
    "metrics = model.val(\"coco128.yaml\")"
   ]
  },
  {
   "cell_type": "code",
   "execution_count": 5,
   "metadata": {},
   "outputs": [],
   "source": [
    "from ultralytics.nn.tasks import DetectionModel"
   ]
  },
  {
   "cell_type": "code",
   "execution_count": null,
   "metadata": {},
   "outputs": [],
   "source": [
    "class D (DetectionModel):\n",
    "    def __init__(self, *args, *kwargs):\n",
    "        super(args,kwargs).__init__()\n"
   ]
  }
 ],
 "metadata": {
  "kernelspec": {
   "display_name": "pytorch",
   "language": "python",
   "name": "python3"
  },
  "language_info": {
   "codemirror_mode": {
    "name": "ipython",
    "version": 3
   },
   "file_extension": ".py",
   "mimetype": "text/x-python",
   "name": "python",
   "nbconvert_exporter": "python",
   "pygments_lexer": "ipython3",
   "version": "3.11.3"
  },
  "orig_nbformat": 4
 },
 "nbformat": 4,
 "nbformat_minor": 2
}
