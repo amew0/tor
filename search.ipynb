{
 "cells": [
  {
   "cell_type": "code",
   "execution_count": 2,
   "metadata": {},
   "outputs": [],
   "source": [
    "from ultralytics import YOLO\n",
    "import yaml\n",
    "import random\n",
    "import copy\n",
    "from utils import *\n",
    "import numpy as np\n",
    "import time"
   ]
  },
  {
   "cell_type": "code",
   "execution_count": null,
   "metadata": {},
   "outputs": [],
   "source": [
    "from tqdm import tqdm\n",
    "l = size_ss(ss)\n",
    "c=0\n",
    "new_cfgs = [-1,-1]\n",
    "for i in tqdm(range(2)):\n",
    "    selected_cfg = select_cfg(ss)\n",
    "    selected_cfg_ = copy.deepcopy(selected_cfg)\n",
    "    new_cfgs[i] = create_cfg(cfg,selected_cfg)\n",
    "    dump_yaml(new_cfgs[i], save_cfg)\n",
    "    try:\n",
    "        model = YOLO(save_cfg)\n",
    "        del model\n",
    "    except RuntimeError as rte:\n",
    "        pass\n",
    "    except ValueError as ve:\n",
    "        pass"
   ]
  },
  {
   "cell_type": "code",
   "execution_count": 3,
   "metadata": {},
   "outputs": [],
   "source": [
    "import os\n",
    "os.environ['CUDA_VISIBLE_DEVICES'] = '2'"
   ]
  },
  {
   "cell_type": "code",
   "execution_count": 3,
   "metadata": {},
   "outputs": [
    {
     "name": "stderr",
     "output_type": "stream",
     "text": [
      "YOLOv8n summary: 225 layers, 3157200 parameters, 3157184 gradients\n",
      "\n"
     ]
    }
   ],
   "source": [
    "# model = YOLO(\"yolov8n.pt\")\n",
    "model_ = YOLO(\"yolov8n.yaml\")"
   ]
  },
  {
   "cell_type": "code",
   "execution_count": 4,
   "metadata": {},
   "outputs": [
    {
     "data": {
      "text/plain": [
       "device(type='cuda')"
      ]
     },
     "execution_count": 4,
     "metadata": {},
     "output_type": "execute_result"
    }
   ],
   "source": [
    "import torch\n",
    "device = torch.device(\"cuda\" if torch.cuda.is_available() else \"cpu\")\n",
    "device"
   ]
  },
  {
   "cell_type": "code",
   "execution_count": 5,
   "metadata": {},
   "outputs": [],
   "source": [
    "model_.to(device)"
   ]
  },
  {
   "cell_type": "code",
   "execution_count": null,
   "metadata": {},
   "outputs": [],
   "source": [
    "model_.train(data='coco128.yaml', epochs=10, workers=1,imgsz=80,verbose=False,save=False,plots=False)"
   ]
  },
  {
   "cell_type": "code",
   "execution_count": 11,
   "metadata": {},
   "outputs": [
    {
     "name": "stderr",
     "output_type": "stream",
     "text": [
      "Ultralytics YOLOv8.0.123 🚀 Python-3.11.3 torch-2.0.1+cu117 CUDA:0 (NVIDIA RTX A6000, 48685MiB)\n",
      "YOLOv8n summary (fused): 168 layers, 3151904 parameters, 0 gradients\n",
      "\u001b[34m\u001b[1mval: \u001b[0mScanning /home/ak11263/tor/datasets/coco128/labels/train2017.cache... 126 images, 2 backgrounds, 0 corrupt: 100%|██████████| 128/128 [00:00<?, ?it/s]\n",
      "                 Class     Images  Instances      Box(P          R      mAP50  mAP50-95): 100%|██████████| 8/8 [00:03<00:00,  2.41it/s]\n",
      "                   all        128        929       0.64      0.537      0.605      0.446\n",
      "                person        128        254      0.797      0.677      0.764      0.538\n",
      "               bicycle        128          6      0.514      0.333      0.315      0.263\n",
      "                   car        128         46      0.814      0.217      0.273      0.168\n",
      "            motorcycle        128          5      0.687      0.887      0.898      0.685\n",
      "              airplane        128          6      0.818      0.833      0.927      0.675\n",
      "                   bus        128          7      0.492      0.714      0.728      0.671\n",
      "                 train        128          3      0.534      0.667      0.706      0.604\n",
      "                 truck        128         12          1      0.333      0.473      0.297\n",
      "                  boat        128          6      0.226      0.167      0.316      0.135\n",
      "         traffic light        128         14      0.734        0.2      0.202      0.139\n",
      "             stop sign        128          2          1      0.993      0.995      0.701\n",
      "                 bench        128          9      0.839      0.583       0.62      0.365\n",
      "                  bird        128         16      0.921      0.728      0.864       0.51\n",
      "                   cat        128          4      0.875          1      0.995      0.791\n",
      "                   dog        128          9      0.603      0.889      0.785      0.585\n",
      "                 horse        128          2      0.597          1      0.995      0.518\n",
      "              elephant        128         17      0.849      0.765        0.9      0.679\n",
      "                  bear        128          1      0.593          1      0.995      0.995\n",
      "                 zebra        128          4      0.848          1      0.995      0.965\n",
      "               giraffe        128          9       0.72          1      0.951      0.722\n",
      "              backpack        128          6      0.589      0.333      0.376      0.232\n",
      "              umbrella        128         18      0.804        0.5      0.643      0.414\n",
      "               handbag        128         19      0.424     0.0526      0.165     0.0888\n",
      "                   tie        128          7      0.804      0.714      0.674      0.476\n",
      "              suitcase        128          4      0.634      0.879      0.745      0.534\n",
      "               frisbee        128          5      0.675        0.8      0.759      0.688\n",
      "                  skis        128          1      0.568          1      0.995      0.497\n",
      "             snowboard        128          7      0.742      0.714      0.746        0.5\n",
      "           sports ball        128          6      0.715      0.431      0.485      0.278\n",
      "                  kite        128         10      0.817       0.45      0.569      0.184\n",
      "          baseball bat        128          4       0.55       0.25      0.353      0.175\n",
      "        baseball glove        128          7      0.624      0.429      0.429      0.293\n",
      "            skateboard        128          5      0.846        0.6        0.6       0.41\n",
      "         tennis racket        128          7      0.725      0.387      0.487       0.33\n",
      "                bottle        128         18      0.448      0.389      0.376      0.213\n",
      "            wine glass        128         16      0.742      0.362      0.584      0.333\n",
      "                   cup        128         36      0.579      0.278      0.402      0.289\n",
      "                  fork        128          6      0.527      0.167      0.246      0.184\n",
      "                 knife        128         16      0.565        0.5       0.59      0.359\n",
      "                 spoon        128         22      0.597      0.182      0.328       0.19\n",
      "                  bowl        128         28      0.647      0.643      0.619      0.492\n",
      "                banana        128          1          0          0      0.124     0.0379\n",
      "              sandwich        128          2       0.25        0.5      0.308      0.308\n",
      "                orange        128          4          1       0.31      0.995      0.623\n",
      "              broccoli        128         11      0.373      0.182      0.249      0.203\n",
      "                carrot        128         24      0.648      0.458      0.569      0.361\n",
      "               hot dog        128          2      0.353      0.559      0.745      0.721\n",
      "                 pizza        128          5      0.645          1      0.995      0.843\n",
      "                 donut        128         14      0.657          1       0.94      0.864\n",
      "                  cake        128          4      0.618          1      0.945      0.845\n",
      "                 chair        128         35      0.506      0.514      0.442      0.239\n",
      "                 couch        128          6      0.462        0.5      0.706      0.555\n",
      "          potted plant        128         14      0.649      0.643      0.711      0.472\n",
      "                   bed        128          3      0.698      0.667      0.789      0.625\n",
      "          dining table        128         13      0.432      0.615      0.485      0.366\n",
      "                toilet        128          2      0.615        0.5      0.695      0.676\n",
      "                    tv        128          2      0.372      0.616      0.745      0.696\n",
      "                laptop        128          3          1          0      0.451      0.361\n",
      "                 mouse        128          2          1          0     0.0625    0.00625\n",
      "                remote        128          8      0.843        0.5      0.605      0.529\n",
      "            cell phone        128          8          0          0     0.0549     0.0393\n",
      "             microwave        128          3      0.444      0.667      0.806      0.718\n",
      "                  oven        128          5      0.411        0.4      0.339       0.27\n",
      "                  sink        128          6       0.35      0.167      0.182      0.129\n",
      "          refrigerator        128          5      0.589        0.4      0.604      0.452\n",
      "                  book        128         29      0.629      0.103      0.345      0.178\n",
      "                 clock        128          9      0.788       0.83      0.875       0.74\n",
      "                  vase        128          2      0.376          1      0.828      0.795\n",
      "              scissors        128          1          1          0      0.249     0.0746\n",
      "            teddy bear        128         21      0.877      0.333      0.592      0.394\n",
      "            toothbrush        128          5      0.745        0.6      0.638      0.374\n",
      "Speed: 0.6ms preprocess, 9.2ms inference, 0.0ms loss, 11.7ms postprocess per image\n",
      "Results saved to \u001b[1mruns/detect/val18\u001b[0m\n"
     ]
    }
   ],
   "source": [
    "metrics = model.val(\"coco128.yaml\")\n"
   ]
  },
  {
   "cell_type": "code",
   "execution_count": 12,
   "metadata": {},
   "outputs": [],
   "source": [
    "cm = metrics.confusion_matrix.matrix\n",
    "test_acc = np.trace(cm)/np.sum(cm)"
   ]
  },
  {
   "cell_type": "code",
   "execution_count": 5,
   "metadata": {},
   "outputs": [
    {
     "name": "stderr",
     "output_type": "stream",
     "text": [
      "YOLOv8n summary: 225 layers, 3157200 parameters, 3157184 gradients\n",
      "\n",
      "New https://pypi.org/project/ultralytics/8.0.125 available 😃 Update with 'pip install -U ultralytics'\n",
      "Ultralytics YOLOv8.0.123 🚀 Python-3.11.3 torch-2.0.1+cu117 CUDA:0 (NVIDIA RTX A6000, 48685MiB)\n",
      "\u001b[34m\u001b[1myolo/engine/trainer: \u001b[0mtask=detect, mode=train, model=/home/ak11263/tor/recipe/yolov8n.yaml, data=coco128.yaml, epochs=20, patience=50, batch=16, imgsz=96, save=False, save_period=-1, cache=False, device=None, workers=1, project=None, name=None, exist_ok=False, pretrained=True, optimizer=auto, verbose=False, seed=0, deterministic=True, single_cls=False, rect=False, cos_lr=False, close_mosaic=0, resume=False, amp=True, fraction=1.0, profile=False, overlap_mask=True, mask_ratio=4, dropout=0.0, val=True, split=val, save_json=False, save_hybrid=False, conf=None, iou=0.7, max_det=300, half=False, dnn=False, plots=False, source=None, show=False, save_txt=False, save_conf=False, save_crop=False, show_labels=True, show_conf=True, vid_stride=1, line_width=None, visualize=False, augment=False, agnostic_nms=False, classes=None, retina_masks=False, boxes=True, format=torchscript, keras=False, optimize=False, int8=False, dynamic=False, simplify=False, opset=None, workspace=4, nms=False, lr0=0.01, lrf=0.01, momentum=0.937, weight_decay=0.0005, warmup_epochs=3.0, warmup_momentum=0.8, warmup_bias_lr=0.1, box=7.5, cls=0.5, dfl=1.5, pose=12.0, kobj=1.0, label_smoothing=0.0, nbs=64, hsv_h=0.015, hsv_s=0.7, hsv_v=0.4, degrees=0.0, translate=0.1, scale=0.5, shear=0.0, perspective=0.0, flipud=0.0, fliplr=0.5, mosaic=1.0, mixup=0.0, copy_paste=0.0, cfg=None, v5loader=False, tracker=botsort.yaml, save_dir=runs/detect/train1463\n"
     ]
    },
    {
     "name": "stdout",
     "output_type": "stream",
     "text": [
      "====================\n",
      "||        20        ||\n",
      "====================\n"
     ]
    },
    {
     "name": "stderr",
     "output_type": "stream",
     "text": [
      "YOLOv8n summary: 225 layers, 3157200 parameters, 3157184 gradients\n",
      "\n",
      "\u001b[34m\u001b[1mAMP: \u001b[0mrunning Automatic Mixed Precision (AMP) checks with YOLOv8n...\n",
      "\u001b[34m\u001b[1mAMP: \u001b[0mchecks passed ✅\n",
      "\u001b[34m\u001b[1mtrain: \u001b[0mScanning /home/ak11263/tor/datasets/coco128/labels/train2017.cache... 126 images, 2 backgrounds, 0 corrupt: 100%|██████████| 128/128 [00:00<?, ?it/s]\n",
      "\u001b[34m\u001b[1mval: \u001b[0mScanning /home/ak11263/tor/datasets/coco128/labels/train2017.cache... 126 images, 2 backgrounds, 0 corrupt: 100%|██████████| 128/128 [00:00<?, ?it/s]\n",
      "\u001b[34m\u001b[1moptimizer:\u001b[0m AdamW(lr=0.000119, momentum=0.9) with parameter groups 57 weight(decay=0.0), 64 weight(decay=0.0005), 63 bias(decay=0.0)\n",
      "Image sizes 96 train, 96 val\n",
      "Using 1 dataloader workers\n",
      "Logging results to \u001b[1mruns/detect/train1463\u001b[0m\n",
      "Starting training for 20 epochs...\n",
      "\n",
      "      Epoch    GPU_mem   box_loss   cls_loss   dfl_loss  Instances       Size\n",
      "       1/20     0.505G      5.755       5.86      4.245        169         96: 100%|██████████| 8/8 [00:00<00:00, 19.63it/s]\n",
      "                 Class     Images  Instances      Box(P          R      mAP50  mAP50-95): 100%|██████████| 4/4 [00:00<00:00, 52.00it/s]\n",
      "                   all        128        929          0          0          0          0\n",
      "\n",
      "      Epoch    GPU_mem   box_loss   cls_loss   dfl_loss  Instances       Size\n",
      "       2/20     0.505G      5.851      5.839      4.311        139         96: 100%|██████████| 8/8 [00:00<00:00, 21.10it/s]\n",
      "                 Class     Images  Instances      Box(P          R      mAP50  mAP50-95): 100%|██████████| 4/4 [00:00<00:00, 52.85it/s]\n",
      "                   all        128        929          0          0          0          0\n",
      "\n",
      "      Epoch    GPU_mem   box_loss   cls_loss   dfl_loss  Instances       Size\n",
      "       3/20     0.518G      5.681      5.864      4.293        131         96: 100%|██████████| 8/8 [00:00<00:00, 24.83it/s]\n",
      "                 Class     Images  Instances      Box(P          R      mAP50  mAP50-95): 100%|██████████| 4/4 [00:00<00:00, 52.60it/s]\n",
      "                   all        128        929          0          0          0          0\n",
      "\n",
      "      Epoch    GPU_mem   box_loss   cls_loss   dfl_loss  Instances       Size\n",
      "       4/20     0.518G      5.797      5.853      4.248        213         96: 100%|██████████| 8/8 [00:00<00:00, 25.59it/s]\n",
      "                 Class     Images  Instances      Box(P          R      mAP50  mAP50-95): 100%|██████████| 4/4 [00:00<00:00, 52.56it/s]\n",
      "                   all        128        929          0          0          0          0\n",
      "\n",
      "      Epoch    GPU_mem   box_loss   cls_loss   dfl_loss  Instances       Size\n",
      "       5/20     0.518G      5.995      5.887      4.275        178         96: 100%|██████████| 8/8 [00:00<00:00, 23.95it/s]\n",
      "                 Class     Images  Instances      Box(P          R      mAP50  mAP50-95): 100%|██████████| 4/4 [00:00<00:00, 52.59it/s]\n",
      "                   all        128        929          0          0          0          0\n",
      "\n",
      "      Epoch    GPU_mem   box_loss   cls_loss   dfl_loss  Instances       Size\n",
      "       6/20     0.518G      5.858      5.808      4.309        148         96: 100%|██████████| 8/8 [00:00<00:00, 24.38it/s]\n",
      "                 Class     Images  Instances      Box(P          R      mAP50  mAP50-95): 100%|██████████| 4/4 [00:00<00:00, 52.65it/s]\n",
      "                   all        128        929          0          0          0          0\n",
      "\n",
      "      Epoch    GPU_mem   box_loss   cls_loss   dfl_loss  Instances       Size\n",
      "       7/20     0.518G      5.869      5.845      4.232        140         96: 100%|██████████| 8/8 [00:00<00:00, 26.27it/s]\n",
      "                 Class     Images  Instances      Box(P          R      mAP50  mAP50-95): 100%|██████████| 4/4 [00:00<00:00, 52.75it/s]\n",
      "                   all        128        929          0          0          0          0\n",
      "\n",
      "      Epoch    GPU_mem   box_loss   cls_loss   dfl_loss  Instances       Size\n",
      "       8/20     0.518G       5.93      5.854       4.21        121         96: 100%|██████████| 8/8 [00:00<00:00, 25.76it/s]\n",
      "                 Class     Images  Instances      Box(P          R      mAP50  mAP50-95): 100%|██████████| 4/4 [00:00<00:00, 52.54it/s]\n",
      "                   all        128        929          0          0          0          0\n",
      "\n",
      "      Epoch    GPU_mem   box_loss   cls_loss   dfl_loss  Instances       Size\n",
      "       9/20     0.518G      5.858      5.798      4.315        206         96: 100%|██████████| 8/8 [00:00<00:00, 24.42it/s]\n",
      "                 Class     Images  Instances      Box(P          R      mAP50  mAP50-95): 100%|██████████| 4/4 [00:00<00:00, 52.58it/s]\n",
      "                   all        128        929          0          0          0          0\n",
      "\n",
      "      Epoch    GPU_mem   box_loss   cls_loss   dfl_loss  Instances       Size\n",
      "      10/20     0.518G       5.91      5.856      4.237        180         96: 100%|██████████| 8/8 [00:00<00:00, 25.51it/s]\n",
      "                 Class     Images  Instances      Box(P          R      mAP50  mAP50-95): 100%|██████████| 4/4 [00:00<00:00, 52.41it/s]\n",
      "                   all        128        929          0          0          0          0\n",
      "\n",
      "      Epoch    GPU_mem   box_loss   cls_loss   dfl_loss  Instances       Size\n",
      "      11/20     0.518G      5.618       5.81      4.259        188         96: 100%|██████████| 8/8 [00:00<00:00, 24.60it/s]\n",
      "                 Class     Images  Instances      Box(P          R      mAP50  mAP50-95): 100%|██████████| 4/4 [00:00<00:00, 52.50it/s]\n",
      "                   all        128        929          0          0          0          0\n",
      "\n",
      "      Epoch    GPU_mem   box_loss   cls_loss   dfl_loss  Instances       Size\n",
      "      12/20     0.518G      5.816      5.793      4.273        137         96: 100%|██████████| 8/8 [00:00<00:00, 26.95it/s]\n",
      "                 Class     Images  Instances      Box(P          R      mAP50  mAP50-95): 100%|██████████| 4/4 [00:00<00:00, 52.60it/s]\n",
      "                   all        128        929          0          0          0          0\n",
      "\n",
      "      Epoch    GPU_mem   box_loss   cls_loss   dfl_loss  Instances       Size\n",
      "      13/20     0.518G      5.658      5.793      4.257        168         96: 100%|██████████| 8/8 [00:00<00:00, 25.55it/s]\n",
      "                 Class     Images  Instances      Box(P          R      mAP50  mAP50-95): 100%|██████████| 4/4 [00:00<00:00, 52.58it/s]\n",
      "                   all        128        929          0          0          0          0\n",
      "\n",
      "      Epoch    GPU_mem   box_loss   cls_loss   dfl_loss  Instances       Size\n",
      "      14/20     0.518G      5.929      5.777      4.221        198         96: 100%|██████████| 8/8 [00:00<00:00, 27.12it/s]\n",
      "                 Class     Images  Instances      Box(P          R      mAP50  mAP50-95): 100%|██████████| 4/4 [00:00<00:00, 52.49it/s]\n",
      "                   all        128        929          0          0          0          0\n",
      "\n",
      "      Epoch    GPU_mem   box_loss   cls_loss   dfl_loss  Instances       Size\n",
      "      15/20     0.518G      5.875      5.765      4.238        206         96: 100%|██████████| 8/8 [00:00<00:00, 27.28it/s]\n",
      "                 Class     Images  Instances      Box(P          R      mAP50  mAP50-95): 100%|██████████| 4/4 [00:00<00:00, 52.46it/s]\n",
      "                   all        128        929          0          0          0          0\n",
      "\n",
      "      Epoch    GPU_mem   box_loss   cls_loss   dfl_loss  Instances       Size\n",
      "      16/20     0.518G      5.936      5.786      4.224        191         96: 100%|██████████| 8/8 [00:00<00:00, 26.96it/s]\n",
      "                 Class     Images  Instances      Box(P          R      mAP50  mAP50-95): 100%|██████████| 4/4 [00:00<00:00, 52.53it/s]\n",
      "                   all        128        929          0          0          0          0\n",
      "\n",
      "      Epoch    GPU_mem   box_loss   cls_loss   dfl_loss  Instances       Size\n",
      "      17/20     0.518G      5.774      5.785      4.207        194         96: 100%|██████████| 8/8 [00:00<00:00, 26.27it/s]\n",
      "                 Class     Images  Instances      Box(P          R      mAP50  mAP50-95): 100%|██████████| 4/4 [00:00<00:00, 52.60it/s]\n",
      "                   all        128        929          0          0          0          0\n",
      "\n",
      "      Epoch    GPU_mem   box_loss   cls_loss   dfl_loss  Instances       Size\n",
      "      18/20     0.518G      5.692      5.791      4.161        148         96: 100%|██████████| 8/8 [00:00<00:00, 25.50it/s]\n",
      "                 Class     Images  Instances      Box(P          R      mAP50  mAP50-95): 100%|██████████| 4/4 [00:00<00:00, 52.56it/s]\n",
      "                   all        128        929          0          0          0          0\n",
      "\n",
      "      Epoch    GPU_mem   box_loss   cls_loss   dfl_loss  Instances       Size\n",
      "      19/20     0.518G      5.654      5.749      4.255        217         96: 100%|██████████| 8/8 [00:00<00:00, 26.58it/s]\n",
      "                 Class     Images  Instances      Box(P          R      mAP50  mAP50-95): 100%|██████████| 4/4 [00:00<00:00, 52.58it/s]\n",
      "                   all        128        929          0          0          0          0\n",
      "\n",
      "      Epoch    GPU_mem   box_loss   cls_loss   dfl_loss  Instances       Size\n",
      "      20/20     0.518G      5.798      5.789      4.195        171         96: 100%|██████████| 8/8 [00:00<00:00, 25.98it/s]\n",
      "                 Class     Images  Instances      Box(P          R      mAP50  mAP50-95): 100%|██████████| 4/4 [00:01<00:00,  2.22it/s]\n",
      "                   all        128        929          0          0          0          0\n",
      "\n",
      "20 epochs completed in 0.003 hours.\n",
      "Optimizer stripped from runs/detect/train1463/weights/last.pt, 6.5MB\n",
      "Optimizer stripped from runs/detect/train1463/weights/best.pt, 6.5MB\n",
      "\n",
      "Validating runs/detect/train1463/weights/best.pt...\n",
      "Ultralytics YOLOv8.0.123 🚀 Python-3.11.3 torch-2.0.1+cu117 CUDA:0 (NVIDIA RTX A6000, 48685MiB)\n",
      "YOLOv8n summary (fused): 168 layers, 3151904 parameters, 0 gradients\n",
      "                 Class     Images  Instances      Box(P          R      mAP50  mAP50-95): 100%|██████████| 4/4 [00:01<00:00,  2.32it/s]\n",
      "                   all        128        929          0          0          0          0\n",
      "Speed: 0.1ms preprocess, 10.4ms inference, 0.0ms loss, 0.0ms postprocess per image\n",
      "Results saved to \u001b[1mruns/detect/train1463\u001b[0m\n",
      "Ultralytics YOLOv8.0.123 🚀 Python-3.11.3 torch-2.0.1+cu117 CUDA:0 (NVIDIA RTX A6000, 48685MiB)\n",
      "YOLOv8n summary (fused): 168 layers, 3151904 parameters, 0 gradients\n",
      "\u001b[34m\u001b[1mval: \u001b[0mScanning /home/ak11263/tor/datasets/coco128/labels/train2017.cache... 126 images, 2 backgrounds, 0 corrupt: 100%|██████████| 128/128 [00:00<?, ?it/s]\n",
      "                 Class     Images  Instances      Box(P          R      mAP50  mAP50-95): 100%|██████████| 8/8 [00:00<00:00, 19.31it/s]\n",
      "                   all        128        929          0          0          0          0\n",
      "Speed: 0.0ms preprocess, 1.6ms inference, 0.0ms loss, 0.0ms postprocess per image\n"
     ]
    }
   ],
   "source": [
    "def crazy(i):\n",
    "    print(\"=\"*20)\n",
    "    print(\"||\"+\" \"*8+str(i)+\" \"*8+\"||\")\n",
    "    print(\"=\"*20)\n",
    "for i in range(20,100,5):\n",
    "    crazy(i)\n",
    "    model_ = YOLO(\"/home/ak11263/tor/recipe/yolov8n.yaml\")\n",
    "    model_.train(data='coco128.yaml', epochs=i, workers=1,imgsz=96,verbose=False,save=False,plots=False)\n",
    "    metrics = model_.val(\"coco128.yaml\")\n",
    "    test_acc = metrics.results_dict['metrics/mAP50(B)']\n",
    "\n",
    "    if test_acc > 0:\n",
    "        crazy(i)\n",
    "        crazy(test_acc)\n",
    "    del model_\n",
    "    break"
   ]
  }
 ],
 "metadata": {
  "kernelspec": {
   "display_name": "pytorch",
   "language": "python",
   "name": "python3"
  },
  "language_info": {
   "codemirror_mode": {
    "name": "ipython",
    "version": 3
   },
   "file_extension": ".py",
   "mimetype": "text/x-python",
   "name": "python",
   "nbconvert_exporter": "python",
   "pygments_lexer": "ipython3",
   "version": "3.11.3"
  },
  "orig_nbformat": 4
 },
 "nbformat": 4,
 "nbformat_minor": 2
}
